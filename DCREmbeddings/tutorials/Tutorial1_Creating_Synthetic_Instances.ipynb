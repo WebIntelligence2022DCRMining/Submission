{
 "cells": [
  {
   "cell_type": "markdown",
   "metadata": {},
   "source": [
    "# Content\n",
    "\n",
    "- The objective of this notebook is to explain to the reader how to create synthetic instances for the purpose of discovering Differential Causal Rules.\n",
    "- Synthetic instances are created to define a distance threshold in the embedding space. This threshold is then used to match similar instance and to discover differential causal rules. These steps are described in Tutorial2_Mining_DCRules.ipynb"
   ]
  },
  {
   "cell_type": "markdown",
   "metadata": {},
   "source": [
    "# Libraries Import"
   ]
  },
  {
   "cell_type": "code",
   "execution_count": 1,
   "metadata": {},
   "outputs": [],
   "source": [
    "import pandas as pd\n",
    "import numpy as np\n",
    "\n",
    "import random\n",
    "import uuid"
   ]
  },
  {
   "cell_type": "code",
   "execution_count": 2,
   "metadata": {},
   "outputs": [
    {
     "name": "stdout",
     "output_type": "stream",
     "text": [
      "AmpliGraph version OK\n"
     ]
    }
   ],
   "source": [
    "import ampligraph\n",
    "from ampligraph.datasets import load_from_csv\n",
    "\n",
    "if ampligraph.__version__ == '1.4.0':\n",
    "    print(\"AmpliGraph version OK\")"
   ]
  },
  {
   "cell_type": "code",
   "execution_count": 3,
   "metadata": {},
   "outputs": [],
   "source": [
    "from synthetic_generation import *"
   ]
  },
  {
   "cell_type": "markdown",
   "metadata": {},
   "source": [
    "# Data Import"
   ]
  },
  {
   "cell_type": "code",
   "execution_count": 4,
   "metadata": {},
   "outputs": [],
   "source": [
    "directory_path = '../datasets'\n",
    "file_name = 'dbpedia_extract.csv'\n",
    "X = load_from_csv(directory_path,file_name, sep=',')"
   ]
  },
  {
   "cell_type": "code",
   "execution_count": 5,
   "metadata": {},
   "outputs": [
    {
     "name": "stdout",
     "output_type": "stream",
     "text": [
      "The knowledge graph is composed of 6908 triples\n"
     ]
    }
   ],
   "source": [
    "# checking the import\n",
    "print(f\"The knowledge graph is composed of {len(X)} triples\")"
   ]
  },
  {
   "cell_type": "markdown",
   "metadata": {},
   "source": [
    "# Presenting the Schema"
   ]
  },
  {
   "cell_type": "markdown",
   "metadata": {},
   "source": [
    "<img src=\"images/schema_dbpedia.png\">"
   ]
  },
  {
   "cell_type": "code",
   "execution_count": 6,
   "metadata": {},
   "outputs": [],
   "source": [
    "target_class = 'http://dbpedia.org/ontology/Writer'\n",
    "target_class_instances = get_instances_for_type(X,target_class)"
   ]
  },
  {
   "cell_type": "markdown",
   "metadata": {},
   "source": [
    "The dataset using in this tutorial is an extract from DBPedia that we name DBPediaW. It has been studied in [1] and [2]. The target class is writer. Therefore, we aim in this tutorial to create synthetic instances from writers already in DBPediaW.\n",
    "\n",
    "[1] Munch, M., Dibie, J., Wuillemin, P., Manfredotti, C.E.: Towards interactive causal relation discovery driven by an ontology. In: International Florida Artificial Intelligence Research Society Conference (2019)\n",
    "\n",
    "[2] Simonne, L., Pernelle, N., Sais, F., Thomopoulos, R.: Differential Causal Rules Mining in Knowledge Graphs. In: Proceedings of the Knowledge Capture Conference, K-CAP 2021 (2021)"
   ]
  },
  {
   "cell_type": "markdown",
   "metadata": {},
   "source": [
    "# Creating A Synthetic Instance"
   ]
  },
  {
   "cell_type": "markdown",
   "metadata": {},
   "source": [
    "<div class=\"alert alert-success\">\n",
    "    <b>Note :</b>\n",
    "    As a reminder, synthethic instances are a modified version from an existing instance of the target class. They are associated to a <b>number of differences</b>, DONNER DÉFINITION PLUS TARD.\n",
    "</div>"
   ]
  },
  {
   "cell_type": "markdown",
   "metadata": {},
   "source": [
    "To create a synthetic instance of writer from an original writer instance, several paths can be modified :\n",
    "- on the Writer description :\n",
    "    - birthDate\n",
    "    - genre\n",
    "    - gender\n",
    "- on the description of its nodes :\n",
    "    - Book :\n",
    "        - releaseDate\n",
    "        - number of pages\n",
    "    - University :\n",
    "        - arwu\n",
    "        - endowment\n",
    "        - Country :\n",
    "            - name"
   ]
  },
  {
   "cell_type": "markdown",
   "metadata": {},
   "source": [
    "The protocol for creating synthetic instances can be structured in two sections :\n",
    "- <b>Section 1 : Get the descriptions and select the subset of graph to modify.</b>\n",
    "    - get the descriptions of a given writer, its books, university and country\n",
    "    - given a number of differences, select the paths to be modified and the nodes accordingly\n",
    "-  <b>Section 2 : Build new triples.</b>\n",
    "    - query the KG to find whether nodes respecting the changes to apply already exist or not\n",
    "    - create new nodes if needed\n",
    "    - create the new triples from the nodes previouly determined (newly created or/and not)"
   ]
  },
  {
   "cell_type": "code",
   "execution_count": 7,
   "metadata": {},
   "outputs": [],
   "source": [
    "def get_synthetic_instance_from_original(X,instance_writer,number_differences,blocked_p):\n",
    "    \"\"\"\n",
    "    Return URI of synthetic writer and \n",
    "    \"\"\"\n",
    "    # obtain RDF description from instance\n",
    "    dic_writer, dic_of_books, uni, dic_uni, country, dic_country = get_description_for_generation(X,instance_writer)\n",
    "    \n",
    "    # apply number of differences\n",
    "    dic_paths_to_change = get_paths_to_change(X,instance_writer,dic_writer,dic_of_books,uni,dic_uni,country,dic_country,number_differences)\n",
    "    \n",
    "    # obtain new triples to add to the KG\n",
    "    new_writer_URI, triples_to_add = get_triples_to_add(X,instance_writer,dic_paths_to_change,dic_writer,dic_of_books,uni,dic_uni,country,dic_country)\n",
    "    \n",
    "    return new_writer_URI, triples_to_add"
   ]
  },
  {
   "cell_type": "code",
   "execution_count": 8,
   "metadata": {},
   "outputs": [],
   "source": [
    "blocked_p = [\n",
    "    'http://www.w3.org/1999/02/22-rdf-syntax-ns#type',\n",
    "    'http://dbpedia.org/ontology/author'\n",
    "]\n",
    "\n",
    "instance_test = random.sample(target_class_instances,1)[0]\n",
    "NUMBER_DIFFERENCES = 5"
   ]
  },
  {
   "cell_type": "code",
   "execution_count": 9,
   "metadata": {},
   "outputs": [],
   "source": [
    "dic_writer, dic_of_books, uni, dic_uni, country, dic_country = get_description_for_generation(X,instance_test)"
   ]
  },
  {
   "cell_type": "code",
   "execution_count": 10,
   "metadata": {},
   "outputs": [],
   "source": [
    "dic_paths_to_change = get_paths_to_change(\n",
    "    X,\n",
    "    instance_test,\n",
    "    dic_writer,\n",
    "    dic_of_books,\n",
    "    uni,\n",
    "    dic_uni,\n",
    "    country,\n",
    "    dic_country,\n",
    "    NUMBER_DIFFERENCES,\n",
    "    blocked_p\n",
    ")"
   ]
  },
  {
   "cell_type": "code",
   "execution_count": 11,
   "metadata": {},
   "outputs": [
    {
     "data": {
      "text/plain": [
       "{'http://dbpedia.org/resource/Jennifer,_Hecate,_Macbeth,_William_McKinley,_and_Me,_Elizabeth': ['http://dbpedia.org/ontology/releaseDate'],\n",
       " 'http://dbpedia.org/resource/E._L._Konigsburg': ['http://dbpedia.org/ontology/genre',\n",
       "  'http://dbpedia.org/ontology/birthDate'],\n",
       " 'http://dbpedia.org/resource/Carnegie_Mellon_University': ['http://dbpedia.org/ontology/arwuW'],\n",
       " 'http://dbpedia.org/resource/The_View_from_Saturday': ['http://dbpedia.org/ontology/numberOfPages']}"
      ]
     },
     "execution_count": 11,
     "metadata": {},
     "output_type": "execute_result"
    }
   ],
   "source": [
    "dic_paths_to_change"
   ]
  },
  {
   "cell_type": "code",
   "execution_count": 12,
   "metadata": {},
   "outputs": [],
   "source": [
    "new_writer_URI, triples_to_add = get_triples_to_add(X,instance_test,dic_paths_to_change,dic_writer,dic_of_books,uni,dic_uni,country,dic_country)"
   ]
  },
  {
   "cell_type": "code",
   "execution_count": 15,
   "metadata": {},
   "outputs": [
    {
     "name": "stdout",
     "output_type": "stream",
     "text": [
      "The URI of the synthetic writer is : 9f97ea1d-0593-4936-8acf-574bc1bf9d3f\n"
     ]
    }
   ],
   "source": [
    "print('The URI of the synthetic writer is :',new_writer_URI)"
   ]
  },
  {
   "cell_type": "code",
   "execution_count": 14,
   "metadata": {},
   "outputs": [
    {
     "data": {
      "text/plain": [
       "[['24659fae-42b2-481c-9175-26a2c106a692',\n",
       "  'http://dbpedia.org/ontology/hasForStudent',\n",
       "  '9f97ea1d-0593-4936-8acf-574bc1bf9d3f'],\n",
       " ['24659fae-42b2-481c-9175-26a2c106a692',\n",
       "  'http://dbpedia.org/ontology/hasForStudent',\n",
       "  'http://dbpedia.org/resource/E._L._Konigsburg'],\n",
       " ['24659fae-42b2-481c-9175-26a2c106a692',\n",
       "  'http://www.w3.org/1999/02/22-rdf-syntax-ns#type',\n",
       "  'http://dbpedia.org/ontology/University'],\n",
       " ['24659fae-42b2-481c-9175-26a2c106a692',\n",
       "  'http://www.w3.org/1999/02/22-rdf-syntax-ns#type',\n",
       "  'http://www.w3.org/2002/07/owl#NamedIndividual'],\n",
       " ['24659fae-42b2-481c-9175-26a2c106a692',\n",
       "  'http://dbpedia.org/ontology/arwuW',\n",
       "  '501'],\n",
       " ['24659fae-42b2-481c-9175-26a2c106a692',\n",
       "  'http://www.w3.org/2000/01/rdf-schema#label',\n",
       "  'Carnegie Mellon University'],\n",
       " ['24659fae-42b2-481c-9175-26a2c106a692',\n",
       "  'http://dbpedia.org/ontology/endowment',\n",
       "  '1.739E9'],\n",
       " ['http://dbpedia.org/resource/U.S.',\n",
       "  'http://dbpedia.org/ontology/isCountryOf',\n",
       "  '24659fae-42b2-481c-9175-26a2c106a692'],\n",
       " ['9f97ea1d-0593-4936-8acf-574bc1bf9d3f',\n",
       "  'http://dbpedia.org/ontology/author',\n",
       "  '9df17836-33bb-4843-b47a-ef0c293760c7'],\n",
       " ['9df17836-33bb-4843-b47a-ef0c293760c7',\n",
       "  'http://www.w3.org/1999/02/22-rdf-syntax-ns#type',\n",
       "  'http://www.w3.org/2002/07/owl#NamedIndividual'],\n",
       " ['9df17836-33bb-4843-b47a-ef0c293760c7',\n",
       "  'http://www.w3.org/1999/02/22-rdf-syntax-ns#type',\n",
       "  'http://dbpedia.org/ontology/Book'],\n",
       " ['9df17836-33bb-4843-b47a-ef0c293760c7',\n",
       "  'http://dbpedia.org/ontology/releaseDate',\n",
       "  '1980'],\n",
       " ['9df17836-33bb-4843-b47a-ef0c293760c7',\n",
       "  'http://dbpedia.org/ontology/numberOfPages',\n",
       "  '128'],\n",
       " ['9df17836-33bb-4843-b47a-ef0c293760c7',\n",
       "  'http://www.w3.org/2000/01/rdf-schema#label',\n",
       "  'Jennifer, Hecate, Macbeth, William McKinley, and Me, Elizabeth'],\n",
       " ['9f97ea1d-0593-4936-8acf-574bc1bf9d3f',\n",
       "  'http://dbpedia.org/ontology/author',\n",
       "  'de9dfcd5-5cb5-4171-91f8-5a4c6343f97b'],\n",
       " ['de9dfcd5-5cb5-4171-91f8-5a4c6343f97b',\n",
       "  'http://dbpedia.org/ontology/releaseDate',\n",
       "  '1996'],\n",
       " ['de9dfcd5-5cb5-4171-91f8-5a4c6343f97b',\n",
       "  'http://www.w3.org/1999/02/22-rdf-syntax-ns#type',\n",
       "  'http://dbpedia.org/ontology/Book'],\n",
       " ['de9dfcd5-5cb5-4171-91f8-5a4c6343f97b',\n",
       "  'http://www.w3.org/1999/02/22-rdf-syntax-ns#type',\n",
       "  'http://www.w3.org/2002/07/owl#NamedIndividual'],\n",
       " ['de9dfcd5-5cb5-4171-91f8-5a4c6343f97b',\n",
       "  'http://www.w3.org/2000/01/rdf-schema#label',\n",
       "  'The View from Saturday'],\n",
       " ['de9dfcd5-5cb5-4171-91f8-5a4c6343f97b',\n",
       "  'http://dbpedia.org/ontology/numberOfPages',\n",
       "  '527'],\n",
       " ['9f97ea1d-0593-4936-8acf-574bc1bf9d3f',\n",
       "  'http://dbpedia.org/ontology/birthDate',\n",
       "  '1962'],\n",
       " ['9f97ea1d-0593-4936-8acf-574bc1bf9d3f',\n",
       "  'http://www.w3.org/1999/02/22-rdf-syntax-ns#type',\n",
       "  'http://dbpedia.org/ontology/Writer'],\n",
       " ['9f97ea1d-0593-4936-8acf-574bc1bf9d3f',\n",
       "  'http://www.w3.org/1999/02/22-rdf-syntax-ns#type',\n",
       "  'http://www.w3.org/2002/07/owl#NamedIndividual'],\n",
       " ['9f97ea1d-0593-4936-8acf-574bc1bf9d3f',\n",
       "  'http://xmlns.com/foaf/0.1/gender',\n",
       "  'female'],\n",
       " ['9f97ea1d-0593-4936-8acf-574bc1bf9d3f',\n",
       "  'http://www.w3.org/2000/01/rdf-schema#label',\n",
       "  'E. L. Konigsburg'],\n",
       " ['9f97ea1d-0593-4936-8acf-574bc1bf9d3f',\n",
       "  'http://dbpedia.org/ontology/genre',\n",
       "  'NonFiction']]"
      ]
     },
     "execution_count": 14,
     "metadata": {},
     "output_type": "execute_result"
    }
   ],
   "source": [
    "triples_to_add"
   ]
  },
  {
   "cell_type": "markdown",
   "metadata": {},
   "source": [
    "# Next steps : Creating Synthetic Instances and saving them"
   ]
  },
  {
   "cell_type": "markdown",
   "metadata": {},
   "source": [
    "(1) We saw how to create a synthethic instance given an existing instance of the target class and a number of differences.\n",
    "\n",
    "(2) The user can then generate a set of synthethic instances by keeping track of :\n",
    "- the pairs (original instance - synthetic instance) given the number of differences\n",
    "- we advise the reader to create a set of instances for a range of number of differences values to observe its effect on the rules\n",
    "\n",
    "(3) The last step is presented in the next tutorial (Tutorial2_Mining_DCRules.ipynb) and consists of :\n",
    "- training a KG embedding model on the whole dataset (original + synthetic instances)\n",
    "- get the distance between pairs of instances given a number of differences to define a matching threshold\n",
    "- get pairs of instances according to a treatment, obtain their outcome and compute rule metric"
   ]
  },
  {
   "cell_type": "code",
   "execution_count": null,
   "metadata": {},
   "outputs": [],
   "source": []
  }
 ],
 "metadata": {
  "kernelspec": {
   "display_name": "Python 3",
   "language": "python",
   "name": "python3"
  },
  "language_info": {
   "codemirror_mode": {
    "name": "ipython",
    "version": 3
   },
   "file_extension": ".py",
   "mimetype": "text/x-python",
   "name": "python",
   "nbconvert_exporter": "python",
   "pygments_lexer": "ipython3",
   "version": "3.6.9"
  }
 },
 "nbformat": 4,
 "nbformat_minor": 4
}
