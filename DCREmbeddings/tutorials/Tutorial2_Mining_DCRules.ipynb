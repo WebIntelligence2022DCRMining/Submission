{
 "cells": [
  {
   "cell_type": "markdown",
   "metadata": {},
   "source": [
    "# Content\n",
    "\n",
    "- The objective of this notebook is to explain to the reader how to discover Differential Causal Rules in a Knowledge Graph.\n",
    "- This tutorial is a follow up of the tutorial 1 : Tutorial1_Creating_Synthethic_Instances.ipynb"
   ]
  },
  {
   "cell_type": "markdown",
   "metadata": {},
   "source": [
    "Various functions used to mine DCR are presented, including :\n",
    "- getting the distance threshold\n",
    "- build pairs of instances\n",
    "- compute the metric of a DCR"
   ]
  },
  {
   "cell_type": "raw",
   "metadata": {},
   "source": [
    "AJOUTER FIGURE : TRAITEMENTS, OUTCOME ET RÈGLE"
   ]
  },
  {
   "cell_type": "markdown",
   "metadata": {},
   "source": [
    "# Libraries Import"
   ]
  },
  {
   "cell_type": "code",
   "execution_count": 1,
   "metadata": {},
   "outputs": [],
   "source": [
    "import pandas as pd\n",
    "import numpy as np\n",
    "import matplotlib.pyplot as plt\n",
    "import seaborn as sns\n",
    "import os\n",
    "\n",
    "import math\n",
    "import random\n",
    "import copy\n",
    "import sys\n",
    "import itertools\n",
    "import time\n",
    "import uuid\n",
    "from scipy.spatial import distance\n",
    "import pickle"
   ]
  },
  {
   "cell_type": "code",
   "execution_count": 2,
   "metadata": {},
   "outputs": [
    {
     "name": "stdout",
     "output_type": "stream",
     "text": [
      "AmpliGraph version OK\n",
      "TensorFlow version OK\n"
     ]
    }
   ],
   "source": [
    "import ampligraph\n",
    "import tensorflow as tf\n",
    "\n",
    "if ampligraph.__version__ == '1.4.0':\n",
    "    print(\"AmpliGraph version OK\")\n",
    "if tf.__version__ == '1.15.2':\n",
    "    print(\"TensorFlow version OK\")\n",
    "    \n",
    "from ampligraph.evaluation import train_test_split_no_unseen\n",
    "from ampligraph.evaluation import mr_score, mrr_score, hits_at_n_score\n",
    "from ampligraph.evaluation import evaluate_performance\n",
    "from ampligraph.latent_features.models import ConvE"
   ]
  },
  {
   "cell_type": "code",
   "execution_count": 3,
   "metadata": {},
   "outputs": [],
   "source": [
    "sys.path.append('../similarity_search')\n",
    "from pairs_mining import *\n",
    "from threshold_estimation import *\n",
    "from distance_threshold_estimation import *\n",
    "sys.path.append('../dcr_discovery')\n",
    "from metrics import *"
   ]
  },
  {
   "cell_type": "markdown",
   "metadata": {},
   "source": [
    "# Data Import"
   ]
  },
  {
   "cell_type": "code",
   "execution_count": 4,
   "metadata": {},
   "outputs": [],
   "source": [
    "# getting the data\n",
    "directory_path = '../mining_all_rules/'\n",
    "file_name = 'X_with_truncated.csv'\n",
    "df_ = pd.read_csv(directory_path+file_name,sep=';', header=None)\n",
    "X = df_.to_numpy()"
   ]
  },
  {
   "cell_type": "code",
   "execution_count": 5,
   "metadata": {},
   "outputs": [],
   "source": [
    "# keeping track of the synthetic intances\n",
    "with open(directory_path+'list_target_class_instances.pkl', 'rb') as f1:\n",
    "    list_target_class_instances = pickle.load(f1)\n",
    "\n",
    "with open(directory_path+'dic_truncated_pairs.pkl', 'rb') as f2:\n",
    "    dic_truncated_pairs = pickle.load(f2)"
   ]
  },
  {
   "cell_type": "markdown",
   "metadata": {},
   "source": [
    "# Parameters"
   ]
  },
  {
   "cell_type": "code",
   "execution_count": 6,
   "metadata": {},
   "outputs": [],
   "source": [
    "# target class type and paths of interest\n",
    "PATH_TYPE = '22-rdf-syntax-ns#type'\n",
    "TYPE_TARGET_CLASS = 'Person'\n",
    "\n",
    "PATHS_TREATMENT = ['sex']\n",
    "PATH_DIET = ['hasCurrentDiet']\n",
    "PATH_IDEAL_DIET = ['hasIdealDiet']\n",
    "path_flesh_diet = PATH_DIET + ['fleshIntensity']\n",
    "path_flesh_ideal_diet = PATH_IDEAL_DIET + ['fleshIntensity']\n",
    "MAX_DEGREE_DIFFERENCE = max([len(i) for i in list(dic_truncated_pairs.keys())])\n",
    "\n",
    "# training parameters\n",
    "EPOCHS = 130\n",
    "TEST_SET_PROPORTION = 0.1\n",
    "\n",
    "# rule parameter\n",
    "STAT_PARAM = 1.64"
   ]
  },
  {
   "cell_type": "markdown",
   "metadata": {},
   "source": [
    "# Training a Model"
   ]
  },
  {
   "cell_type": "code",
   "execution_count": 7,
   "metadata": {},
   "outputs": [
    {
     "name": "stdout",
     "output_type": "stream",
     "text": [
      "Analysing treatment :  ['sex']\n"
     ]
    }
   ],
   "source": [
    "print('Analysing treatment : ',PATHS_TREATMENT)"
   ]
  },
  {
   "cell_type": "code",
   "execution_count": 8,
   "metadata": {},
   "outputs": [],
   "source": [
    "# some treatment and outcome properties are to be removed in order to match instances independently of their values on these paths\n",
    "list_of_paths_to_remove = [PATH_TYPE,PATH_DIET[-1],PATH_IDEAL_DIET[-1],PATHS_TREATMENT[-1]]"
   ]
  },
  {
   "cell_type": "code",
   "execution_count": 9,
   "metadata": {},
   "outputs": [],
   "source": [
    "X_training = np.array([x for x in X if x[1] not in list_of_paths_to_remove])\n",
    "test_size = round(TEST_SET_PROPORTION*len(X_training))\n",
    "X_train, X_test = train_test_split_no_unseen(X_training, test_size=test_size)"
   ]
  },
  {
   "cell_type": "code",
   "execution_count": 10,
   "metadata": {},
   "outputs": [],
   "source": [
    "model = ConvE(\n",
    "    batches_count=100,\n",
    "    seed=0,\n",
    "    epochs=EPOCHS,\n",
    "    k=150,\n",
    "    eta=5,\n",
    "    optimizer='adam',\n",
    "    optimizer_params={'lr':1e-3},\n",
    "    loss='bce',\n",
    "    regularizer='LP',\n",
    "    regularizer_params={'p':3, 'lambda':1e-5},\n",
    "    verbose=True\n",
    ")\n",
    "positives_filter = X_training"
   ]
  },
  {
   "cell_type": "code",
   "execution_count": 11,
   "metadata": {},
   "outputs": [
    {
     "name": "stderr",
     "output_type": "stream",
     "text": [
      "Average Loss:   1.192432: 100%|██████████| 130/130 [1:13:26<00:00, 33.90s/epoch]\n"
     ]
    }
   ],
   "source": [
    "tf.logging.set_verbosity(tf.logging.ERROR)\n",
    "model.fit(\n",
    "    X_train,\n",
    "    early_stopping = False\n",
    ")"
   ]
  },
  {
   "cell_type": "code",
   "execution_count": 12,
   "metadata": {},
   "outputs": [
    {
     "name": "stdout",
     "output_type": "stream",
     "text": [
      "WARNING - DeprecationWarning: use_default_protocol will be removed in future. Please use corrupt_side argument instead.\n",
      "Mapping set data: test\n",
      "Mapping set data: filter\n"
     ]
    },
    {
     "name": "stderr",
     "output_type": "stream",
     "text": [
      "100%|██████████| 29732/29732 [00:35<00:00, 844.24it/s]\n",
      "100%|██████████| 22/22 [00:21<00:00,  1.02batch/s]\n"
     ]
    },
    {
     "data": {
      "text/html": [
       "<div>\n",
       "<style scoped>\n",
       "    .dataframe tbody tr th:only-of-type {\n",
       "        vertical-align: middle;\n",
       "    }\n",
       "\n",
       "    .dataframe tbody tr th {\n",
       "        vertical-align: top;\n",
       "    }\n",
       "\n",
       "    .dataframe thead th {\n",
       "        text-align: right;\n",
       "    }\n",
       "</style>\n",
       "<table border=\"1\" class=\"dataframe\">\n",
       "  <thead>\n",
       "    <tr style=\"text-align: right;\">\n",
       "      <th></th>\n",
       "      <th>mrr</th>\n",
       "      <th>hits_1</th>\n",
       "      <th>hits_3</th>\n",
       "      <th>hits_10</th>\n",
       "    </tr>\n",
       "  </thead>\n",
       "  <tbody>\n",
       "    <tr>\n",
       "      <th>0</th>\n",
       "      <td>0.291212</td>\n",
       "      <td>0.209724</td>\n",
       "      <td>0.335918</td>\n",
       "      <td>0.442184</td>\n",
       "    </tr>\n",
       "  </tbody>\n",
       "</table>\n",
       "</div>"
      ],
      "text/plain": [
       "        mrr    hits_1    hits_3   hits_10\n",
       "0  0.291212  0.209724  0.335918  0.442184"
      ]
     },
     "execution_count": 12,
     "metadata": {},
     "output_type": "execute_result"
    }
   ],
   "source": [
    "ranks = evaluate_performance(\n",
    "    X_test,\n",
    "    model=model,\n",
    "    filter_triples=positives_filter,\n",
    "    filter_unseen=True,\n",
    "    use_default_protocol=True,\n",
    "    verbose=True\n",
    ")\n",
    "\n",
    "model_performances = {}\n",
    "mrr = mrr_score(ranks)\n",
    "model_performances['mrr'] = mrr\n",
    "hits_1 = hits_at_n_score(ranks, n=1)\n",
    "model_performances['hits_1'] = hits_1\n",
    "hits_3 = hits_at_n_score(ranks, n=3)\n",
    "model_performances['hits_3'] = hits_3\n",
    "hits_10 = hits_at_n_score(ranks, n=10)\n",
    "model_performances['hits_10'] = hits_10\n",
    "model_performances = {key:[value] for key,value in model_performances.items()}\n",
    "df_model_performances = pd.DataFrame.from_dict(model_performances)\n",
    "\n",
    "df_model_performances"
   ]
  },
  {
   "cell_type": "markdown",
   "metadata": {},
   "source": [
    "# Checking the distance with all number of differences"
   ]
  },
  {
   "cell_type": "markdown",
   "metadata": {},
   "source": [
    "<div class=\"alert alert-success\">\n",
    "    <b>Note :</b>\n",
    "    The number of differences can be defined before training the model and creating the matches. However, we show the evolution of the distance with a range of number of differences for the purpose of this tutorial. The obtained figures are presented in the paper.\n",
    "</div>"
   ]
  },
  {
   "cell_type": "code",
   "execution_count": 13,
   "metadata": {},
   "outputs": [],
   "source": [
    "# evolution distance with truncated degree\n",
    "dic_distance_per_degree = {i:[] for i in range(0,MAX_DEGREE_DIFFERENCE+1)}\n",
    "for key,value in dic_truncated_pairs.items():\n",
    "    for pair in value:\n",
    "        distance_ = get_distance_for_pair(tuple(pair),model)\n",
    "        dic_distance_per_degree[len(key)].append(distance_)"
   ]
  },
  {
   "cell_type": "code",
   "execution_count": 14,
   "metadata": {},
   "outputs": [],
   "source": [
    "columns = ['number_differences','distance']\n",
    "df_ = pd.DataFrame(columns=columns)"
   ]
  },
  {
   "cell_type": "code",
   "execution_count": 15,
   "metadata": {},
   "outputs": [],
   "source": [
    "for number_differences,list_distance in dic_distance_per_degree.items():\n",
    "    for d in list_distance:\n",
    "        dic_to_add = {}\n",
    "        dic_to_add['number_differences'] = number_differences\n",
    "        dic_to_add['distance'] = d\n",
    "        df_ = df_.append(dic_to_add,ignore_index=True)"
   ]
  },
  {
   "cell_type": "code",
   "execution_count": 16,
   "metadata": {},
   "outputs": [
    {
     "name": "stdout",
     "output_type": "stream",
     "text": [
      "WARNING - No handles with labels found to put in legend.\n"
     ]
    },
    {
     "data": {
      "text/plain": [
       "<matplotlib.legend.Legend at 0x7f6eb36d1f28>"
      ]
     },
     "execution_count": 16,
     "metadata": {},
     "output_type": "execute_result"
    },
    {
     "data": {
      "image/png": "[encoded data removed]",
      "text/plain": [
       "<Figure size 1562.4x451.44 with 1 Axes>"
      ]
     },
     "metadata": {
      "needs_background": "light"
     },
     "output_type": "display_data"
    }
   ],
   "source": [
    "fig, ax = plt.subplots()\n",
    "fig.set_size_inches(21.7, 6.27)\n",
    "ax = sns.violinplot(\n",
    "    x=\"number_differences\",\n",
    "    y=\"distance\",\n",
    "    data=df_,\n",
    "    palette=\"Set2\",\n",
    "    inner=\"quartile\",\n",
    "    split=True,\n",
    "    width=0.7,\n",
    "    gridsize=100\n",
    ")\n",
    "\n",
    "ax.set(xlabel='Number of Differences', ylabel='Euclidean Distance',title='Distance between truncated instances given their number of differences')\n",
    "ax.legend(loc='upper left')"
   ]
  },
  {
   "cell_type": "markdown",
   "metadata": {},
   "source": [
    "# Creating the pairs of instances"
   ]
  },
  {
   "cell_type": "code",
   "execution_count": 17,
   "metadata": {},
   "outputs": [],
   "source": [
    "# building the similarity matrix\n",
    "mode = 'treatment_sort'\n",
    "treatment_values = list(np.unique([x[2] for x in X if x[1]==PATHS_TREATMENT[-1]]))"
   ]
  },
  {
   "cell_type": "code",
   "execution_count": 19,
   "metadata": {},
   "outputs": [],
   "source": [
    "treatment_combinaison = list(itertools.combinations(treatment_values,2))"
   ]
  },
  {
   "cell_type": "code",
   "execution_count": 21,
   "metadata": {},
   "outputs": [],
   "source": [
    "treatment0 = treatment_combinaison[0][0]\n",
    "treatment1 = treatment_combinaison[0][1]"
   ]
  },
  {
   "cell_type": "code",
   "execution_count": 24,
   "metadata": {},
   "outputs": [],
   "source": [
    "# getting the instances with the treatment value - be careful to not select synthetic instances\n",
    "instances_t0 = list(np.unique([x[0] for x in X if x[1]==PATHS_TREATMENT[-1] and x[2]==treatment0]))\n",
    "instances_t1 = list(np.unique([x[0] for x in X if x[1]==PATHS_TREATMENT[-1] and x[2]==treatment1]))\n",
    "instances_t0 = [i for i in instances_t0 if i in list_target_class_instances]\n",
    "instances_t1 = [i for i in instances_t1 if i in list_target_class_instances]"
   ]
  },
  {
   "cell_type": "code",
   "execution_count": 25,
   "metadata": {},
   "outputs": [
    {
     "name": "stdout",
     "output_type": "stream",
     "text": [
      "Number of instances for treatment0 :  770\n",
      "Number of instances for treatment1 :  944\n"
     ]
    }
   ],
   "source": [
    "print('Number of instances for treatment0 : ',len(instances_t0))\n",
    "print('Number of instances for treatment1 : ',len(instances_t1))"
   ]
  },
  {
   "cell_type": "code",
   "execution_count": 26,
   "metadata": {},
   "outputs": [],
   "source": [
    "if len(instances_t0) > 1 and len(instances_t1) > 1:\n",
    "    df_similarity,df_to_numpy = get_matrix_similarity_pairs(\n",
    "        model,\n",
    "        list_target_class_instances,\n",
    "        mode=mode,\n",
    "        instances_t0=instances_t0,\n",
    "        instances_t1=instances_t1\n",
    "    )"
   ]
  },
  {
   "cell_type": "code",
   "execution_count": 27,
   "metadata": {},
   "outputs": [],
   "source": [
    "# the maximum number of pairs that can be built is the minimum number of instances of one treatment value\n",
    "number_max_of_pairs = min(df_similarity.shape)"
   ]
  },
  {
   "cell_type": "code",
   "execution_count": 28,
   "metadata": {},
   "outputs": [
    {
     "name": "stdout",
     "output_type": "stream",
     "text": [
      "The maximum number of pairs that can be build is :  770\n"
     ]
    }
   ],
   "source": [
    "print('The maximum number of pairs that can be build is : ',number_max_of_pairs)"
   ]
  },
  {
   "cell_type": "markdown",
   "metadata": {},
   "source": [
    "<div class=\"alert alert-success\">\n",
    "    <b>Note 1 :</b>\n",
    "    Given the similarity matrix that has been build, pairs can be mined depending on the distance threshold that is used.\n",
    "</div>"
   ]
  },
  {
   "cell_type": "markdown",
   "metadata": {},
   "source": [
    "<div class=\"alert alert-success\">\n",
    "    <b>Note 2 :</b>\n",
    "    For a numerical treatment, the similarity matrix is squared and each instance having a value defined for the treatment is both in a column and a row. During the pairs mining process, the similarity matrix is therefore to be modified 2 times per pair [(i1:column,i2:row) and (i2:column,i1:row)], while it is only modified once when mining a DCR on a categorical treatment.\n",
    "</div>"
   ]
  },
  {
   "cell_type": "markdown",
   "metadata": {},
   "source": [
    "# Getting the Effect for each distance threshold"
   ]
  },
  {
   "cell_type": "markdown",
   "metadata": {},
   "source": [
    "<div class=\"alert alert-success\">\n",
    "    <b>Note :</b>\n",
    "    Similarly, we present a range of effects depending on the number of differences for the purpose of this tutorial.\n",
    "</div>"
   ]
  },
  {
   "cell_type": "code",
   "execution_count": 29,
   "metadata": {},
   "outputs": [],
   "source": [
    "columns = [\n",
    "    'Degree','Distance_Threshold','Number_Pairs',\n",
    "    'Percentage_Possible_Pairs_Created','Treatment',\n",
    "    't0','t1','causal_metric','causal_metric_IC','T_O',\n",
    "    'T_not_O','same_O'\n",
    "]\n",
    "df_rules = pd.DataFrame(columns=columns)"
   ]
  },
  {
   "cell_type": "raw",
   "metadata": {},
   "source": [
    "AJOUTER FIGURE DE LA MÉTRIQUE"
   ]
  },
  {
   "cell_type": "code",
   "execution_count": 33,
   "metadata": {},
   "outputs": [
    {
     "name": "stdout",
     "output_type": "stream",
     "text": [
      "Degree studied :  0\n",
      "Degree studied :  1\n",
      "Degree studied :  2\n",
      "Degree studied :  3\n",
      "Degree studied :  4\n",
      "Degree studied :  5\n",
      "Degree studied :  6\n",
      "Degree studied :  7\n",
      "Degree studied :  8\n",
      "Degree studied :  9\n",
      "Degree studied :  10\n",
      "Degree studied :  11\n",
      "Degree studied :  12\n",
      "Degree studied :  13\n",
      "Degree studied :  14\n",
      "Degree studied :  15\n",
      "Degree studied :  16\n",
      "Degree studied :  17\n",
      "Degree studied :  18\n",
      "Degree studied :  19\n",
      "Degree studied :  20\n",
      "Degree studied :  21\n",
      "Degree studied :  22\n",
      "Degree studied :  23\n",
      "Degree studied :  24\n"
     ]
    }
   ],
   "source": [
    "for degree in range(len(dic_distance_per_degree)):\n",
    "    print('Degree studied : ',degree)\n",
    "    # obtaining the distance threshold and the resulting pairs\n",
    "    distance_threshold = get_distance_for_degree(dic_distance_per_degree,degree)\n",
    "    pairs_similar_instances = get_pairs_from_matrix_and_threshold(df_similarity,distance_threshold)\n",
    "\n",
    "    row_study = {}\n",
    "    row_study['Degree'] = degree\n",
    "    row_study['Distance_Threshold'] = distance_threshold\n",
    "    row_study['Number_Pairs'] = len(pairs_similar_instances)\n",
    "    row_study['Percentage_Possible_Pairs_Created'] = len(pairs_similar_instances)*100/(min(df_similarity.shape))\n",
    "    row_study['Treatment'] = PATHS_TREATMENT\n",
    "    row_study['t0'] = treatment0\n",
    "    row_study['t1'] = treatment1\n",
    "    \n",
    "    # computing the metric given the pairs that were obtained : getting outcome of the instances\n",
    "    causal_metric, causal_metric_IC,T_O,T_not_O,same_O  = compute_metric_vitamin(\n",
    "        pairs_similar_instances=pairs_similar_instances,\n",
    "        X=X,\n",
    "        PATH_TREATMENT=PATHS_TREATMENT,\n",
    "        PATH_DIET=path_flesh_diet,\n",
    "        PATH_IDEAL_DIET=path_flesh_ideal_diet,\n",
    "        t0=treatment0,\n",
    "        t1=treatment1,\n",
    "        stat_param=STAT_PARAM\n",
    "        )\n",
    "\n",
    "    row_study['causal_metric'] = causal_metric\n",
    "    row_study['causal_metric_IC'] = causal_metric_IC\n",
    "    row_study['T_O'] = T_O\n",
    "    row_study['T_not_O'] = T_not_O\n",
    "    row_study['same_O'] = same_O\n",
    "\n",
    "    df_rules = df_rules.append(row_study,ignore_index=True)"
   ]
  },
  {
   "cell_type": "code",
   "execution_count": null,
   "metadata": {},
   "outputs": [],
   "source": []
  }
 ],
 "metadata": {
  "kernelspec": {
   "display_name": "Python 3",
   "language": "python",
   "name": "python3"
  },
  "language_info": {
   "codemirror_mode": {
    "name": "ipython",
    "version": 3
   },
   "file_extension": ".py",
   "mimetype": "text/x-python",
   "name": "python",
   "nbconvert_exporter": "python",
   "pygments_lexer": "ipython3",
   "version": "3.6.9"
  }
 },
 "nbformat": 4,
 "nbformat_minor": 4
}
